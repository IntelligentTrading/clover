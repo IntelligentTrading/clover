{
 "cells": [
  {
   "cell_type": "code",
   "execution_count": null,
   "metadata": {},
   "outputs": [],
   "source": [
    "%matplotlib notebook\n",
    "\n",
    "import psycopg2.extras\n",
    "import pandas as pd\n",
    "from apps.backtesting.rebalancing.backtester_portfolio import ComparativePortfolioEvaluation\n",
    "import logging, sys\n",
    "logging.disable(sys.maxsize)\n",
    "import warnings\n",
    "warnings.filterwarnings('ignore')\n",
    "\n",
    "portfolio_dicts = {\n",
    "    'half-and-half': {\n",
    "        'BTC': 0.5,\n",
    "        'ETH': 0.5\n",
    "    },\n",
    "    'three-musketeers': {\n",
    "        'BTC': 0.5,\n",
    "        'ETH': 0.25,\n",
    "        'LTC': 0.25,\n",
    "    },\n",
    "    'fab-five': {\n",
    "        'BTC': 0.5,\n",
    "        'ETH': 0.2,\n",
    "        'LTC': 0.1,\n",
    "        'XRP': 0.1,\n",
    "        'EOS': 0.1\n",
    "    }\n",
    "}\n",
    "\n",
    "start_time = '2018/10/01 00:00:00 UTC'\n",
    "end_time = '2018/10/30 00:00:00 UTC'\n",
    "rebalancing_periods = [60*60, 60*60*24, 60*60*24*7]\n",
    "\n",
    "def test_packs(start_time, end_time):\n",
    "    c = ComparativePortfolioEvaluation(portfolio_dicts, start_time, end_time, rebalancing_periods, \n",
    "                                   start_value_of_portfolio=1, counter_currency='BTC', trading_cost_percent=0.25)\n",
    "    return c\n",
    "\n",
    "def save_info(comparative_evaluation, out_file):\n",
    "    df_subset = c.comparative_df[['portfolio','allocations','rebalancing_period_hours',\n",
    "                                  'profit_percent', 'benchmark_profit_percent',\n",
    "                                  'profit_percent_usdt','benchmark_profit_percent_usdt']]\n",
    "    writer = pd.ExcelWriter(out_file)\n",
    "    df_subset.to_excel(writer)\n",
    "    writer.save()\n",
    "    writer.close()\n",
    "    return df_subset\n",
    "\n",
    "c = test_packs(start_time, end_time)\n"
   ]
  },
  {
   "cell_type": "code",
   "execution_count": null,
   "metadata": {},
   "outputs": [],
   "source": [
    "c.save_return_figs('blog-figures')"
   ]
  },
  {
   "cell_type": "code",
   "execution_count": null,
   "metadata": {},
   "outputs": [],
   "source": [
    "df_subset = save_info(c, 'backtesting_packs.xlsx')"
   ]
  },
  {
   "cell_type": "code",
   "execution_count": null,
   "metadata": {},
   "outputs": [],
   "source": [
    "c.plot_all_returns()"
   ]
  },
  {
   "cell_type": "code",
   "execution_count": null,
   "metadata": {},
   "outputs": [],
   "source": [
    "b = c._portfolio_backtests[('half-and-half',3600)]\n",
    "print(b.profit)\n",
    "print(b.benchmark_profit)\n",
    "print(b.gain_over_benchmark)\n",
    "print(b.percent_gain_over_benchmark)\n"
   ]
  },
  {
   "cell_type": "code",
   "execution_count": null,
   "metadata": {},
   "outputs": [],
   "source": [
    "chart = b.get_rebalancing_vs_benchmark_dataframe()[\n",
    "            ['total_value_usdt_rebalancing', 'total_value_usdt_benchmark']].plot()\n",
    "chart.set_xlabel('')\n",
    "chart.set_ylabel('')\n",
    "chart.legend(['total value usdt rebalancing', 'buy & hold'])\n",
    "fig = chart.get_figure()\n",
    "fig.savefig('test.svg')"
   ]
  },
  {
   "cell_type": "code",
   "execution_count": null,
   "metadata": {},
   "outputs": [],
   "source": [
    "c._portfolio_backtests.keys()"
   ]
  },
  {
   "cell_type": "code",
   "execution_count": null,
   "metadata": {},
   "outputs": [],
   "source": [
    "periods = {\n",
    "    '1m': ('2019/01/25 00:00:00 UTC', '2019/02/25 00:00:00 UTC'),\n",
    "    #'3m': ('2018/11/25 00:00:00 UTC', '2019/02/25 00:00:00 UTC'),\n",
    "    #'6m': ('2018/08/25 00:00:00 UTC', '2019/02/25 00:00:00 UTC'),\n",
    "}\n",
    "cumulative_results = []\n",
    "for name, period in periods.items():\n",
    "    start_time = period[0]\n",
    "    end_time = period[1]\n",
    "    c = test_packs(start_time, end_time)\n",
    "    c.plot_all_returns()\n",
    "    cumulative_results.append(c)\n",
    "    #save_info(c, f'backtesting_packs_{name}.xlsx')\n",
    "    \n",
    "    "
   ]
  }
 ],
 "metadata": {
  "kernelspec": {
   "display_name": "Python 3",
   "language": "python",
   "name": "python3"
  },
  "language_info": {
   "codemirror_mode": {
    "name": "ipython",
    "version": 3
   },
   "file_extension": ".py",
   "mimetype": "text/x-python",
   "name": "python",
   "nbconvert_exporter": "python",
   "pygments_lexer": "ipython3",
   "version": "3.6.5"
  }
 },
 "nbformat": 4,
 "nbformat_minor": 1
}
