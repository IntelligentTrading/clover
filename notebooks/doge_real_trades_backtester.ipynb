{
 "cells": [
  {
   "cell_type": "code",
   "execution_count": null,
   "metadata": {},
   "outputs": [],
   "source": [
    "# to run, do: cd notebooks, python ../manage.py shell_plus --notebook\n",
    "\n",
    "from apps.backtesting.rebalancing.backtester_portfolio import RealDogeTradingBacktester\n",
    "from apps.backtesting.data_sources import DB_INTERFACE\n",
    "from apps.backtesting.utils import datetime_to_timestamp, datetime_from_timestamp\n",
    "\n",
    "#import os\n",
    "#os.environ.setdefault(\"DJANGO_SETTINGS_MODULE\", \"web.settings\")\n",
    "\n",
    "\n",
    "start_time = datetime_to_timestamp('2019/01/01 10:35:00 UTC')    ### TODO!!! figure out time shifts\n",
    "end_time = datetime_to_timestamp('2019/07/14 13:35:00 UTC')\n",
    "\n",
    "\n",
    "print(start_time)\n",
    "print(end_time)\n",
    "\n",
    "\n",
    "backtester = RealDogeTradingBacktester(start_time=datetime_from_timestamp(start_time),\n",
    "                                               end_time=datetime_from_timestamp(end_time),\n",
    "                                               step_seconds=60 * 20,\n",
    "                                               counter_currency='USDT',\n",
    "                                               db_interface=DB_INTERFACE, trading_cost_percent=0.1)\n",
    "df = backtester.value_dataframe"
   ]
  },
  {
   "cell_type": "code",
   "execution_count": null,
   "metadata": {},
   "outputs": [],
   "source": []
  }
 ],
 "metadata": {
  "kernelspec": {
   "display_name": "Django Shell-Plus",
   "language": "python",
   "name": "django_extensions"
  },
  "language_info": {
   "codemirror_mode": {
    "name": "ipython",
    "version": 3
   },
   "file_extension": ".py",
   "mimetype": "text/x-python",
   "name": "python",
   "nbconvert_exporter": "python",
   "pygments_lexer": "ipython3",
   "version": "3.6.5"
  }
 },
 "nbformat": 4,
 "nbformat_minor": 2
}
