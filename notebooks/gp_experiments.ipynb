{
 "cells": [
  {
   "cell_type": "code",
   "execution_count": null,
   "metadata": {},
   "outputs": [],
   "source": [
    "%%javascript\n",
    "IPython.OutputArea.prototype._should_scroll = function(lines) {\n",
    "    return false;\n",
    "}"
   ]
  },
  {
   "cell_type": "code",
   "execution_count": null,
   "metadata": {},
   "outputs": [],
   "source": [
    "import warnings\n",
    "warnings.filterwarnings('ignore')\n",
    "\n",
    "import pandas as pd\n",
    "\n",
    "from apps.genetic_algorithms.genetic_program import FitnessFunction\n",
    "from apps.genetic_algorithms.gp_artemis import ExperimentManager\n",
    "from IPython.core.display import HTML, Javascript\n",
    "\n",
    "CONDENSED_COLS = ['individual_str', 'transaction_currency', 'counter_currency', 'profit_percent', 'benchmark_profit_percent']\n",
    "\n",
    "%matplotlib inline\n",
    "pd.set_option('display.max_columns', 500)\n",
    "\n",
    "from apps.doge.doge_train_test import DogeTrainer\n",
    "import time\n",
    "end_timestamp = 1548806400 #int(time.time())  # UTC timestamp\n",
    "start_timestamp = end_timestamp - 60*60*24\n",
    "ticker = 'BTC_USDT'\n",
    "\n",
    "e = DogeTrainer.run_training(start_timestamp, end_timestamp, ticker)\n",
    "            \n"
   ]
  },
  {
   "cell_type": "markdown",
   "metadata": {},
   "source": [
    "### Looking at performance per training dataset and across all experiment variants\n",
    "For each training dataset in the training collection, we get a performance dataframe sorted by profit. The dataframes and best individuals in them are shown below."
   ]
  },
  {
   "cell_type": "code",
   "execution_count": null,
   "metadata": {},
   "outputs": [],
   "source": [
    "performance_dfs = e.get_joined_performance_dfs_over_all_variants()"
   ]
  },
  {
   "cell_type": "code",
   "execution_count": null,
   "metadata": {},
   "outputs": [],
   "source": [
    "len(e.training_data[0].indicators['rsi'])\n",
    "#e.training_data[0].start_time\n",
    "e.training_data[0].end_time"
   ]
  },
  {
   "cell_type": "markdown",
   "metadata": {},
   "source": [
    "We can explore each of the performance dataframes in more detail."
   ]
  },
  {
   "cell_type": "code",
   "execution_count": null,
   "metadata": {},
   "outputs": [],
   "source": [
    "pd.set_option('display.max_colwidth', -1)\n",
    "performance_dfs[0][CONDENSED_COLS]"
   ]
  },
  {
   "cell_type": "code",
   "execution_count": null,
   "metadata": {},
   "outputs": [],
   "source": [
    "e.performance_df_row_info(performance_dfs[0].iloc[0])"
   ]
  },
  {
   "cell_type": "markdown",
   "metadata": {},
   "source": [
    "### Best performing individuals across all variants and datasets\n",
    "Each experiment variant will have a winner, the doge baby that had the best fitness value. We can get these winners by invoking the command below:"
   ]
  },
  {
   "cell_type": "code",
   "execution_count": null,
   "metadata": {},
   "outputs": [],
   "source": [
    "best_individuals_across_variants_and_datasets = e.get_best_performing_across_variants_and_datasets(e.training_data, sort_by=[\"fitness_value\"], top_n_per_variant=20)"
   ]
  },
  {
   "cell_type": "code",
   "execution_count": null,
   "metadata": {},
   "outputs": [],
   "source": [
    "pd.set_option('display.max_colwidth', -1)\n",
    "best_individuals_across_variants_and_datasets.drop(['individual','variant','evaluations'], axis=1)\n",
    "\n",
    "\n"
   ]
  },
  {
   "cell_type": "markdown",
   "metadata": {},
   "source": [
    "### How did this individual perform on training sets?"
   ]
  },
  {
   "cell_type": "code",
   "execution_count": null,
   "metadata": {},
   "outputs": [],
   "source": [
    "best_overall = best_individuals_across_variants_and_datasets.iloc[0]\n",
    "evaluations = best_overall.evaluations\n",
    "for evaluation in evaluations:\n",
    "    e._print_individual_info(best_overall.individual, evaluation)"
   ]
  },
  {
   "cell_type": "markdown",
   "metadata": {},
   "source": [
    "### Let's see its performance on the validation set..."
   ]
  },
  {
   "cell_type": "code",
   "execution_count": null,
   "metadata": {},
   "outputs": [],
   "source": [
    "# Build the validation set\n",
    "from apps.backtesting.data_sources import Data, DB_INTERFACE\n",
    "validation_start = DB_INTERFACE.get_nearest_db_timestamp(end_timestamp, 'BTC_USDT')\n",
    "validation_end = DB_INTERFACE.get_nearest_db_timestamp(end_timestamp+60*60*24, 'BTC_USDT')\n",
    "from apps.backtesting.data_sources import Data, DB_INTERFACE\n",
    "validation = Data(\n",
    "    start_time=validation_start, \n",
    "    end_time=validation_end, \n",
    "    ticker='BTC_USDT', \n",
    "    horizon=e.training_data[0].horizon, \n",
    "    start_cash=1000, \n",
    "    start_crypto=0, \n",
    "    exchange='binance', \n",
    "    database=DB_INTERFACE\n",
    ")\n",
    "\n",
    "evaluation = e._build_evaluation_object(best_overall.individual, best_overall.variant, validation)\n",
    "e._print_individual_info(best_overall.individual, evaluation)"
   ]
  },
  {
   "cell_type": "code",
   "execution_count": null,
   "metadata": {},
   "outputs": [],
   "source": [
    "perf = e.evaluate_individual_on_data_collection(best_overall.individual, best_overall.variant, e.validation_data)\n",
    "#perf = perf.drop(['individual'], axis=1)\n",
    "perf[CONDENSED_COLS]"
   ]
  },
  {
   "cell_type": "code",
   "execution_count": null,
   "metadata": {},
   "outputs": [],
   "source": [
    "doge = DogeDNACanvas(best_overall.individual,\"container\")\n",
    "HTML(doge.create_container())"
   ]
  },
  {
   "cell_type": "code",
   "execution_count": null,
   "metadata": {},
   "outputs": [],
   "source": [
    "Javascript(doge.show())"
   ]
  },
  {
   "cell_type": "code",
   "execution_count": null,
   "metadata": {},
   "outputs": [],
   "source": []
  }
 ],
 "metadata": {
  "kernelspec": {
   "display_name": "Python 3",
   "language": "python",
   "name": "python3"
  },
  "language_info": {
   "codemirror_mode": {
    "name": "ipython",
    "version": 3
   },
   "file_extension": ".py",
   "mimetype": "text/x-python",
   "name": "python",
   "nbconvert_exporter": "python",
   "pygments_lexer": "ipython3",
   "version": "3.7.0"
  }
 },
 "nbformat": 4,
 "nbformat_minor": 1
}
